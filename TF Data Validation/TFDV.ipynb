{
 "cells": [
  {
   "cell_type": "markdown",
   "metadata": {
    "colab_type": "text",
    "id": "wf6nxdDBtGN5"
   },
   "source": [
    "## Step 1:Install dependencies and configure environment"
   ]
  },
  {
   "cell_type": "code",
   "execution_count": 0,
   "metadata": {
    "colab": {
     "base_uri": "https://localhost:8080/",
     "height": 372
    },
    "colab_type": "code",
    "id": "q8b1TeZBs_2S",
    "outputId": "68bb5359-2af4-4220-e910-5547bc9bf1c8"
   },
   "outputs": [
    {
     "name": "stdout",
     "output_type": "stream",
     "text": [
      "Reading package lists... Done\n",
      "Building dependency tree       \n",
      "Reading state information... Done\n",
      "python-dev is already the newest version (2.7.15~rc1-1).\n",
      "The following package was automatically installed and is no longer required:\n",
      "  libnvidia-common-410\n",
      "Use 'apt autoremove' to remove it.\n",
      "The following NEW packages will be installed:\n",
      "  python-snappy\n",
      "0 upgraded, 1 newly installed, 0 to remove and 8 not upgraded.\n",
      "Need to get 10.8 kB of archives.\n",
      "After this operation, 39.9 kB of additional disk space will be used.\n",
      "Get:1 http://archive.ubuntu.com/ubuntu bionic/universe amd64 python-snappy amd64 0.5-1.1build2 [10.8 kB]\n",
      "Fetched 10.8 kB in 1s (14.5 kB/s)\n",
      "Selecting previously unselected package python-snappy.\n",
      "(Reading database ... 130912 files and directories currently installed.)\n",
      "Preparing to unpack .../python-snappy_0.5-1.1build2_amd64.deb ...\n",
      "Unpacking python-snappy (0.5-1.1build2) ...\n",
      "Setting up python-snappy (0.5-1.1build2) ...\n"
     ]
    }
   ],
   "source": [
    "!apt-get install python-dev python-snappy"
   ]
  },
  {
   "cell_type": "code",
   "execution_count": 0,
   "metadata": {
    "colab": {
     "base_uri": "https://localhost:8080/",
     "height": 496
    },
    "colab_type": "code",
    "id": "7bMUsv3JwU2A",
    "outputId": "f4a6c191-09d1-45cd-9f65-e266fdc29103"
   },
   "outputs": [
    {
     "name": "stdout",
     "output_type": "stream",
     "text": [
      "\u001b[K     |████████████████████████████████| 2.7MB 2.8MB/s \n",
      "\u001b[K     |████████████████████████████████| 2.8MB 33.6MB/s \n",
      "\u001b[K     |████████████████████████████████| 174kB 41.8MB/s \n",
      "\u001b[K     |████████████████████████████████| 51kB 16.8MB/s \n",
      "\u001b[K     |████████████████████████████████| 51kB 16.9MB/s \n",
      "\u001b[K     |████████████████████████████████| 1.0MB 37.8MB/s \n",
      "\u001b[K     |████████████████████████████████| 153kB 44.7MB/s \n",
      "\u001b[K     |████████████████████████████████| 81kB 21.3MB/s \n",
      "\u001b[K     |████████████████████████████████| 143kB 39.0MB/s \n",
      "\u001b[K     |████████████████████████████████| 92kB 23.8MB/s \n",
      "\u001b[K     |████████████████████████████████| 102kB 24.8MB/s \n",
      "\u001b[K     |████████████████████████████████| 163kB 34.5MB/s \n",
      "\u001b[K     |████████████████████████████████| 92kB 22.8MB/s \n",
      "\u001b[?25h  Building wheel for tensorflow-transform (setup.py) ... \u001b[?25l\u001b[?25hdone\n",
      "  Building wheel for avro (setup.py) ... \u001b[?25l\u001b[?25hdone\n",
      "  Building wheel for hdfs (setup.py) ... \u001b[?25l\u001b[?25hdone\n",
      "  Building wheel for dill (setup.py) ... \u001b[?25l\u001b[?25hdone\n",
      "  Building wheel for oauth2client (setup.py) ... \u001b[?25l\u001b[?25hdone\n",
      "  Building wheel for pyvcf (setup.py) ... \u001b[?25l\u001b[?25hdone\n",
      "  Building wheel for proto-google-cloud-datastore-v1 (setup.py) ... \u001b[?25l\u001b[?25hdone\n",
      "  Building wheel for googledatastore (setup.py) ... \u001b[?25l\u001b[?25hdone\n",
      "  Building wheel for docopt (setup.py) ... \u001b[?25l\u001b[?25hdone\n",
      "  Building wheel for grpc-google-iam-v1 (setup.py) ... \u001b[?25l\u001b[?25hdone\n",
      "\u001b[31mERROR: google-cloud-storage 1.16.1 has requirement google-cloud-core<2.0dev,>=1.0.0, but you'll have google-cloud-core 0.29.1 which is incompatible.\u001b[0m\n",
      "\u001b[31mERROR: multiprocess 0.70.8 has requirement dill>=0.3.0, but you'll have dill 0.2.9 which is incompatible.\u001b[0m\n",
      "\u001b[31mERROR: tensorflow-transform 0.13.0 has requirement pydot<1.3,>=1.2.0, but you'll have pydot 1.3.0 which is incompatible.\u001b[0m\n",
      "\u001b[31mERROR: google-cloud-translate 1.5.0 has requirement google-cloud-core<2.0dev,>=1.0.0, but you'll have google-cloud-core 0.29.1 which is incompatible.\u001b[0m\n"
     ]
    }
   ],
   "source": [
    "!pip install -q tensorflow_data_validation"
   ]
  },
  {
   "cell_type": "markdown",
   "metadata": {
    "colab_type": "text",
    "id": "FO47q651xVKp"
   },
   "source": [
    "## Step 2: Import libraries"
   ]
  },
  {
   "cell_type": "code",
   "execution_count": 0,
   "metadata": {
    "colab": {},
    "colab_type": "code",
    "id": "v15-TQQ4wf4v"
   },
   "outputs": [],
   "source": [
    "import pandas as pd\n",
    "import tensorflow as tf\n",
    "import tensorflow_data_validation as tfdv\n",
    "\n",
    "from __future__ import print_function"
   ]
  },
  {
   "cell_type": "markdown",
   "metadata": {
    "colab_type": "text",
    "id": "S5LUUynDxvak"
   },
   "source": [
    "## Step 3: Descriptive Analisys on Dataset\n"
   ]
  },
  {
   "cell_type": "code",
   "execution_count": 0,
   "metadata": {
    "colab": {},
    "colab_type": "code",
    "id": "v7r7kstFxfRQ"
   },
   "outputs": [],
   "source": [
    "dataset = pd.read_csv(\"pollution-small.csv\")"
   ]
  },
  {
   "cell_type": "code",
   "execution_count": 0,
   "metadata": {
    "colab": {
     "base_uri": "https://localhost:8080/",
     "height": 34
    },
    "colab_type": "code",
    "id": "Ha53nh-HyqF3",
    "outputId": "10d12d4c-cfff-4f84-feca-b6445041f692"
   },
   "outputs": [
    {
     "data": {
      "text/plain": [
       "(2188, 5)"
      ]
     },
     "execution_count": 6,
     "metadata": {
      "tags": []
     },
     "output_type": "execute_result"
    }
   ],
   "source": [
    "dataset.shape"
   ]
  },
  {
   "cell_type": "code",
   "execution_count": 0,
   "metadata": {
    "colab": {},
    "colab_type": "code",
    "id": "ej93eK0Aysv4"
   },
   "outputs": [],
   "source": [
    "training_data = dataset[:1600]"
   ]
  },
  {
   "cell_type": "code",
   "execution_count": 0,
   "metadata": {
    "colab": {
     "base_uri": "https://localhost:8080/",
     "height": 297
    },
    "colab_type": "code",
    "id": "TTZVB628y38P",
    "outputId": "2de6fb32-b829-422a-f7a7-5f24a2f32305"
   },
   "outputs": [
    {
     "data": {
      "text/html": [
       "<div>\n",
       "<style scoped>\n",
       "    .dataframe tbody tr th:only-of-type {\n",
       "        vertical-align: middle;\n",
       "    }\n",
       "\n",
       "    .dataframe tbody tr th {\n",
       "        vertical-align: top;\n",
       "    }\n",
       "\n",
       "    .dataframe thead th {\n",
       "        text-align: right;\n",
       "    }\n",
       "</style>\n",
       "<table border=\"1\" class=\"dataframe\">\n",
       "  <thead>\n",
       "    <tr style=\"text-align: right;\">\n",
       "      <th></th>\n",
       "      <th>pm10</th>\n",
       "      <th>no2</th>\n",
       "      <th>so2</th>\n",
       "      <th>soot</th>\n",
       "    </tr>\n",
       "  </thead>\n",
       "  <tbody>\n",
       "    <tr>\n",
       "      <th>count</th>\n",
       "      <td>1600.000000</td>\n",
       "      <td>1600.000000</td>\n",
       "      <td>1600.000000</td>\n",
       "      <td>1600.000000</td>\n",
       "    </tr>\n",
       "    <tr>\n",
       "      <th>mean</th>\n",
       "      <td>49.656494</td>\n",
       "      <td>30.980519</td>\n",
       "      <td>16.229981</td>\n",
       "      <td>21.551956</td>\n",
       "    </tr>\n",
       "    <tr>\n",
       "      <th>std</th>\n",
       "      <td>35.211906</td>\n",
       "      <td>12.400788</td>\n",
       "      <td>10.621896</td>\n",
       "      <td>12.127354</td>\n",
       "    </tr>\n",
       "    <tr>\n",
       "      <th>min</th>\n",
       "      <td>6.380000</td>\n",
       "      <td>9.740000</td>\n",
       "      <td>4.010000</td>\n",
       "      <td>6.000000</td>\n",
       "    </tr>\n",
       "    <tr>\n",
       "      <th>25%</th>\n",
       "      <td>28.345000</td>\n",
       "      <td>22.567500</td>\n",
       "      <td>9.777500</td>\n",
       "      <td>14.400000</td>\n",
       "    </tr>\n",
       "    <tr>\n",
       "      <th>50%</th>\n",
       "      <td>38.835000</td>\n",
       "      <td>28.715000</td>\n",
       "      <td>13.275000</td>\n",
       "      <td>18.630000</td>\n",
       "    </tr>\n",
       "    <tr>\n",
       "      <th>75%</th>\n",
       "      <td>58.050000</td>\n",
       "      <td>36.370000</td>\n",
       "      <td>19.282500</td>\n",
       "      <td>24.072500</td>\n",
       "    </tr>\n",
       "    <tr>\n",
       "      <th>max</th>\n",
       "      <td>277.250000</td>\n",
       "      <td>138.010000</td>\n",
       "      <td>123.130000</td>\n",
       "      <td>107.650000</td>\n",
       "    </tr>\n",
       "  </tbody>\n",
       "</table>\n",
       "</div>"
      ],
      "text/plain": [
       "              pm10          no2          so2         soot\n",
       "count  1600.000000  1600.000000  1600.000000  1600.000000\n",
       "mean     49.656494    30.980519    16.229981    21.551956\n",
       "std      35.211906    12.400788    10.621896    12.127354\n",
       "min       6.380000     9.740000     4.010000     6.000000\n",
       "25%      28.345000    22.567500     9.777500    14.400000\n",
       "50%      38.835000    28.715000    13.275000    18.630000\n",
       "75%      58.050000    36.370000    19.282500    24.072500\n",
       "max     277.250000   138.010000   123.130000   107.650000"
      ]
     },
     "execution_count": 8,
     "metadata": {
      "tags": []
     },
     "output_type": "execute_result"
    }
   ],
   "source": [
    "training_data.describe()"
   ]
  },
  {
   "cell_type": "code",
   "execution_count": 0,
   "metadata": {
    "colab": {},
    "colab_type": "code",
    "id": "lNepyJ0gy9IZ"
   },
   "outputs": [],
   "source": [
    "test_set = dataset[1600:]"
   ]
  },
  {
   "cell_type": "code",
   "execution_count": 0,
   "metadata": {
    "colab": {
     "base_uri": "https://localhost:8080/",
     "height": 300
    },
    "colab_type": "code",
    "id": "O9zmE9FEzgOH",
    "outputId": "42cbbfbf-539a-429c-903f-1a18e5243621"
   },
   "outputs": [
    {
     "data": {
      "text/html": [
       "<div>\n",
       "<style scoped>\n",
       "    .dataframe tbody tr th:only-of-type {\n",
       "        vertical-align: middle;\n",
       "    }\n",
       "\n",
       "    .dataframe tbody tr th {\n",
       "        vertical-align: top;\n",
       "    }\n",
       "\n",
       "    .dataframe thead th {\n",
       "        text-align: right;\n",
       "    }\n",
       "</style>\n",
       "<table border=\"1\" class=\"dataframe\">\n",
       "  <thead>\n",
       "    <tr style=\"text-align: right;\">\n",
       "      <th></th>\n",
       "      <th>pm10</th>\n",
       "      <th>no2</th>\n",
       "      <th>so2</th>\n",
       "      <th>soot</th>\n",
       "    </tr>\n",
       "  </thead>\n",
       "  <tbody>\n",
       "    <tr>\n",
       "      <th>count</th>\n",
       "      <td>588.000000</td>\n",
       "      <td>588.000000</td>\n",
       "      <td>588.000000</td>\n",
       "      <td>588.000000</td>\n",
       "    </tr>\n",
       "    <tr>\n",
       "      <th>mean</th>\n",
       "      <td>44.648248</td>\n",
       "      <td>37.296922</td>\n",
       "      <td>13.605170</td>\n",
       "      <td>18.441310</td>\n",
       "    </tr>\n",
       "    <tr>\n",
       "      <th>std</th>\n",
       "      <td>28.992087</td>\n",
       "      <td>10.940050</td>\n",
       "      <td>5.098944</td>\n",
       "      <td>6.596459</td>\n",
       "    </tr>\n",
       "    <tr>\n",
       "      <th>min</th>\n",
       "      <td>11.900000</td>\n",
       "      <td>15.070000</td>\n",
       "      <td>4.990000</td>\n",
       "      <td>8.000000</td>\n",
       "    </tr>\n",
       "    <tr>\n",
       "      <th>25%</th>\n",
       "      <td>28.337500</td>\n",
       "      <td>29.217500</td>\n",
       "      <td>10.122500</td>\n",
       "      <td>14.410000</td>\n",
       "    </tr>\n",
       "    <tr>\n",
       "      <th>50%</th>\n",
       "      <td>35.555000</td>\n",
       "      <td>35.815000</td>\n",
       "      <td>12.345000</td>\n",
       "      <td>17.090000</td>\n",
       "    </tr>\n",
       "    <tr>\n",
       "      <th>75%</th>\n",
       "      <td>50.812500</td>\n",
       "      <td>43.872500</td>\n",
       "      <td>15.855000</td>\n",
       "      <td>20.962500</td>\n",
       "    </tr>\n",
       "    <tr>\n",
       "      <th>max</th>\n",
       "      <td>273.770000</td>\n",
       "      <td>106.030000</td>\n",
       "      <td>38.030000</td>\n",
       "      <td>87.210000</td>\n",
       "    </tr>\n",
       "  </tbody>\n",
       "</table>\n",
       "</div>"
      ],
      "text/plain": [
       "             pm10         no2         so2        soot\n",
       "count  588.000000  588.000000  588.000000  588.000000\n",
       "mean    44.648248   37.296922   13.605170   18.441310\n",
       "std     28.992087   10.940050    5.098944    6.596459\n",
       "min     11.900000   15.070000    4.990000    8.000000\n",
       "25%     28.337500   29.217500   10.122500   14.410000\n",
       "50%     35.555000   35.815000   12.345000   17.090000\n",
       "75%     50.812500   43.872500   15.855000   20.962500\n",
       "max    273.770000  106.030000   38.030000   87.210000"
      ]
     },
     "execution_count": 10,
     "metadata": {
      "tags": []
     },
     "output_type": "execute_result"
    }
   ],
   "source": [
    "test_set.describe()"
   ]
  },
  {
   "cell_type": "markdown",
   "metadata": {
    "colab_type": "text",
    "id": "iGqBm9LZzyqi"
   },
   "source": [
    "## Step 3b: Descriptive Analisys and validation with TFDV"
   ]
  },
  {
   "cell_type": "markdown",
   "metadata": {
    "colab_type": "text",
    "id": "wAVQXEGG0RKH"
   },
   "source": [
    "### Generate the descriptive analisys on Dataset\n"
   ]
  },
  {
   "cell_type": "code",
   "execution_count": 0,
   "metadata": {
    "colab": {
     "base_uri": "https://localhost:8080/",
     "height": 122
    },
    "colab_type": "code",
    "id": "WByxycNeziDA",
    "outputId": "326efd4e-3f2d-4d7b-cb4d-6bbc1fb5e306"
   },
   "outputs": [
    {
     "name": "stderr",
     "output_type": "stream",
     "text": [
      "WARNING: Logging before flag parsing goes to stderr.\n",
      "W0805 15:32:15.928714 140011396999040 deprecation_wrapper.py:119] From /usr/local/lib/python2.7/dist-packages/tensorflow_transform/analyzers.py:948: The name tf.Session is deprecated. Please use tf.compat.v1.Session instead.\n",
      "\n",
      "W0805 15:32:17.189505 140011396999040 deprecation_wrapper.py:119] From /usr/local/lib/python2.7/dist-packages/tensorflow_transform/analyzers.py:994: The name tf.placeholder is deprecated. Please use tf.compat.v1.placeholder instead.\n",
      "\n"
     ]
    }
   ],
   "source": [
    "train_stats = tfdv.generate_statistics_from_dataframe(dataframe=training_data)"
   ]
  },
  {
   "cell_type": "markdown",
   "metadata": {
    "colab_type": "text",
    "id": "BitwkaZ00_iL"
   },
   "source": [
    "### Infer on Schema"
   ]
  },
  {
   "cell_type": "code",
   "execution_count": 0,
   "metadata": {
    "colab": {},
    "colab_type": "code",
    "id": "26We0ahE1CKP"
   },
   "outputs": [],
   "source": [
    "schema = tfdv.infer_schema(statistics=train_stats)"
   ]
  },
  {
   "cell_type": "code",
   "execution_count": 0,
   "metadata": {
    "colab": {
     "base_uri": "https://localhost:8080/",
     "height": 235
    },
    "colab_type": "code",
    "id": "2ZHnaOxg24t3",
    "outputId": "49535d14-d4f5-465f-9548-4f0065806ac7"
   },
   "outputs": [
    {
     "data": {
      "text/html": [
       "<div>\n",
       "<style scoped>\n",
       "    .dataframe tbody tr th:only-of-type {\n",
       "        vertical-align: middle;\n",
       "    }\n",
       "\n",
       "    .dataframe tbody tr th {\n",
       "        vertical-align: top;\n",
       "    }\n",
       "\n",
       "    .dataframe thead th {\n",
       "        text-align: right;\n",
       "    }\n",
       "</style>\n",
       "<table border=\"1\" class=\"dataframe\">\n",
       "  <thead>\n",
       "    <tr style=\"text-align: right;\">\n",
       "      <th></th>\n",
       "      <th>Type</th>\n",
       "      <th>Presence</th>\n",
       "      <th>Valency</th>\n",
       "      <th>Domain</th>\n",
       "    </tr>\n",
       "    <tr>\n",
       "      <th>Feature name</th>\n",
       "      <th></th>\n",
       "      <th></th>\n",
       "      <th></th>\n",
       "      <th></th>\n",
       "    </tr>\n",
       "  </thead>\n",
       "  <tbody>\n",
       "    <tr>\n",
       "      <th>'Date'</th>\n",
       "      <td>BYTES</td>\n",
       "      <td>required</td>\n",
       "      <td></td>\n",
       "      <td>-</td>\n",
       "    </tr>\n",
       "    <tr>\n",
       "      <th>'so2'</th>\n",
       "      <td>FLOAT</td>\n",
       "      <td>required</td>\n",
       "      <td></td>\n",
       "      <td>-</td>\n",
       "    </tr>\n",
       "    <tr>\n",
       "      <th>'pm10'</th>\n",
       "      <td>FLOAT</td>\n",
       "      <td>required</td>\n",
       "      <td></td>\n",
       "      <td>-</td>\n",
       "    </tr>\n",
       "    <tr>\n",
       "      <th>'no2'</th>\n",
       "      <td>FLOAT</td>\n",
       "      <td>required</td>\n",
       "      <td></td>\n",
       "      <td>-</td>\n",
       "    </tr>\n",
       "    <tr>\n",
       "      <th>'soot'</th>\n",
       "      <td>FLOAT</td>\n",
       "      <td>required</td>\n",
       "      <td></td>\n",
       "      <td>-</td>\n",
       "    </tr>\n",
       "  </tbody>\n",
       "</table>\n",
       "</div>"
      ],
      "text/plain": [
       "               Type  Presence Valency Domain\n",
       "Feature name                                \n",
       "'Date'        BYTES  required              -\n",
       "'so2'         FLOAT  required              -\n",
       "'pm10'        FLOAT  required              -\n",
       "'no2'         FLOAT  required              -\n",
       "'soot'        FLOAT  required              -"
      ]
     },
     "metadata": {
      "tags": []
     },
     "output_type": "display_data"
    }
   ],
   "source": [
    "tfdv.display_schema(schema)"
   ]
  },
  {
   "cell_type": "markdown",
   "metadata": {
    "colab_type": "text",
    "id": "uWtUFaJQ3Tuc"
   },
   "source": [
    "### Calculate the descriptive statistics of the testing subset\n"
   ]
  },
  {
   "cell_type": "code",
   "execution_count": 0,
   "metadata": {
    "colab": {},
    "colab_type": "code",
    "id": "ok3jQTVt2-zI"
   },
   "outputs": [],
   "source": [
    "test_stats = tfdv.generate_statistics_from_dataframe(dataframe=test_set)"
   ]
  },
  {
   "cell_type": "markdown",
   "metadata": {
    "colab_type": "text",
    "id": "6BnDXqiz3vy6"
   },
   "source": [
    "## Step 4: Compare statistics of test subset with schema"
   ]
  },
  {
   "cell_type": "markdown",
   "metadata": {
    "colab_type": "text",
    "id": "kWlDe6VJ37ko"
   },
   "source": [
    "### Search for anomalies on new data"
   ]
  },
  {
   "cell_type": "code",
   "execution_count": 0,
   "metadata": {
    "colab": {},
    "colab_type": "code",
    "id": "UAfRZBnL3qx3"
   },
   "outputs": [],
   "source": [
    "anomalies = tfdv.validate_statistics(statistics=test_stats, schema=schema)"
   ]
  },
  {
   "cell_type": "markdown",
   "metadata": {
    "colab_type": "text",
    "id": "shY10N0N3_DD"
   },
   "source": [
    "### Show all detected anomalies\n",
    "\n",
    "- Int number more than 10\n",
    "- STRING type when INT expected\n",
    "- FLOAT type when INT expected\n",
    "- Int number lower than 0"
   ]
  },
  {
   "cell_type": "code",
   "execution_count": 0,
   "metadata": {
    "colab": {
     "base_uri": "https://localhost:8080/",
     "height": 57
    },
    "colab_type": "code",
    "id": "pexizEYr4Bqn",
    "outputId": "9bdbf61f-af1c-46ce-831f-3248f97446c0"
   },
   "outputs": [
    {
     "data": {
      "text/html": [
       "<h4 style=\"color:green;\">No anomalies found.</h4>"
      ],
      "text/plain": [
       "<IPython.core.display.HTML object>"
      ]
     },
     "metadata": {
      "tags": []
     },
     "output_type": "display_data"
    }
   ],
   "source": [
    "tfdv.display_anomalies(anomalies)"
   ]
  },
  {
   "cell_type": "markdown",
   "metadata": {
    "colab_type": "text",
    "id": "2aWeFdYQ4Cb5"
   },
   "source": [
    "### New data with anomalies"
   ]
  },
  {
   "cell_type": "code",
   "execution_count": 0,
   "metadata": {
    "colab": {},
    "colab_type": "code",
    "id": "PQoDCrd04HK2"
   },
   "outputs": [],
   "source": [
    "test_set_copy = test_set.copy()"
   ]
  },
  {
   "cell_type": "code",
   "execution_count": 0,
   "metadata": {
    "colab": {},
    "colab_type": "code",
    "id": "tldZL65465hm"
   },
   "outputs": [],
   "source": [
    "test_set_copy.drop(\"soot\", axis=1, inplace=True)"
   ]
  },
  {
   "cell_type": "markdown",
   "metadata": {
    "colab_type": "text",
    "id": "O6AbhtEY4Hp-"
   },
   "source": [
    "### Statistics based on anomalies Data"
   ]
  },
  {
   "cell_type": "code",
   "execution_count": 0,
   "metadata": {
    "colab": {},
    "colab_type": "code",
    "id": "DNXMz0gD4Skv"
   },
   "outputs": [],
   "source": [
    "test_set_copy_stats = tfdv.generate_statistics_from_dataframe(dataframe=test_set_copy)"
   ]
  },
  {
   "cell_type": "code",
   "execution_count": 0,
   "metadata": {
    "colab": {},
    "colab_type": "code",
    "id": "wJQS09K17XKf"
   },
   "outputs": [],
   "source": [
    "anomalies_new = tfdv.validate_statistics(statistics=test_set_copy_stats, schema=schema)"
   ]
  },
  {
   "cell_type": "code",
   "execution_count": 0,
   "metadata": {
    "colab": {
     "base_uri": "https://localhost:8080/",
     "height": 111
    },
    "colab_type": "code",
    "id": "texSxcnO7h8Q",
    "outputId": "b2d37db1-6d87-4dbc-8e36-fbce508da3dc"
   },
   "outputs": [
    {
     "data": {
      "text/html": [
       "<div>\n",
       "<style scoped>\n",
       "    .dataframe tbody tr th:only-of-type {\n",
       "        vertical-align: middle;\n",
       "    }\n",
       "\n",
       "    .dataframe tbody tr th {\n",
       "        vertical-align: top;\n",
       "    }\n",
       "\n",
       "    .dataframe thead th {\n",
       "        text-align: right;\n",
       "    }\n",
       "</style>\n",
       "<table border=\"1\" class=\"dataframe\">\n",
       "  <thead>\n",
       "    <tr style=\"text-align: right;\">\n",
       "      <th></th>\n",
       "      <th>Anomaly short description</th>\n",
       "      <th>Anomaly long description</th>\n",
       "    </tr>\n",
       "    <tr>\n",
       "      <th>Feature name</th>\n",
       "      <th></th>\n",
       "      <th></th>\n",
       "    </tr>\n",
       "  </thead>\n",
       "  <tbody>\n",
       "    <tr>\n",
       "      <th>'soot'</th>\n",
       "      <td>Column dropped</td>\n",
       "      <td>Column is completely missing</td>\n",
       "    </tr>\n",
       "  </tbody>\n",
       "</table>\n",
       "</div>"
      ],
      "text/plain": [
       "             Anomaly short description      Anomaly long description\n",
       "Feature name                                                        \n",
       "'soot'        Column dropped            Column is completely missing"
      ]
     },
     "metadata": {
      "tags": []
     },
     "output_type": "display_data"
    }
   ],
   "source": [
    "tfdv.display_anomalies(anomalies_new)"
   ]
  },
  {
   "cell_type": "markdown",
   "metadata": {
    "colab_type": "text",
    "id": "IlrBt63h7_UB"
   },
   "source": [
    "## Step 5: Prepare schema to upload on Production"
   ]
  },
  {
   "cell_type": "code",
   "execution_count": 0,
   "metadata": {
    "colab": {},
    "colab_type": "code",
    "id": "MgWLB_TW8Epa"
   },
   "outputs": [],
   "source": [
    "schema.default_environment.append(\"TRAINING\")\n",
    "schema.default_environment.append(\"SERVING\")"
   ]
  },
  {
   "cell_type": "markdown",
   "metadata": {
    "colab_type": "text",
    "id": "BSuPxRpr8Cxg"
   },
   "source": [
    "### Delete objective column of production schema"
   ]
  },
  {
   "cell_type": "code",
   "execution_count": 0,
   "metadata": {
    "colab": {},
    "colab_type": "code",
    "id": "8_H9a7WD7l3A"
   },
   "outputs": [],
   "source": [
    "tfdv.get_feature(schema, \"soot\").not_in_environment.append(\"SERVING\")"
   ]
  },
  {
   "cell_type": "markdown",
   "metadata": {
    "colab_type": "text",
    "id": "QonMtSXb8KWY"
   },
   "source": [
    "### Test anomalies between server environment and new input data"
   ]
  },
  {
   "cell_type": "code",
   "execution_count": 0,
   "metadata": {
    "colab": {},
    "colab_type": "code",
    "id": "ZXdZ9tk58Rh_"
   },
   "outputs": [],
   "source": [
    "serving_env_anomalies = tfdv.validate_statistics(test_set_copy_stats, schema, environment=\"SERVING\")"
   ]
  },
  {
   "cell_type": "code",
   "execution_count": 0,
   "metadata": {
    "colab": {
     "base_uri": "https://localhost:8080/",
     "height": 57
    },
    "colab_type": "code",
    "id": "05jDXv8o_J0O",
    "outputId": "bcebc33c-48b7-420b-aec9-f5946ae23ded"
   },
   "outputs": [
    {
     "data": {
      "text/html": [
       "<h4 style=\"color:green;\">No anomalies found.</h4>"
      ],
      "text/plain": [
       "<IPython.core.display.HTML object>"
      ]
     },
     "metadata": {
      "tags": []
     },
     "output_type": "display_data"
    }
   ],
   "source": [
    "tfdv.display_anomalies(serving_env_anomalies)"
   ]
  },
  {
   "cell_type": "markdown",
   "metadata": {
    "colab_type": "text",
    "id": "KFR3LpXSdlct"
   },
   "source": [
    "## Step 6: Freeze schema"
   ]
  },
  {
   "cell_type": "code",
   "execution_count": 0,
   "metadata": {
    "colab": {},
    "colab_type": "code",
    "id": "-Ok0E4AwzbH0"
   },
   "outputs": [],
   "source": [
    "tfdv.write_schema_text(schema = schema, output_path = \"pollution_schema.pbtxt\")"
   ]
  }
 ],
 "metadata": {
  "accelerator": "GPU",
  "colab": {
   "collapsed_sections": [],
   "name": "TFDV.ipynb",
   "provenance": []
  },
  "kernelspec": {
   "display_name": "TensorFlow-GPU-2.0",
   "language": "python",
   "name": "tf-gpu"
  },
  "language_info": {
   "codemirror_mode": {
    "name": "ipython",
    "version": 3
   },
   "file_extension": ".py",
   "mimetype": "text/x-python",
   "name": "python",
   "nbconvert_exporter": "python",
   "pygments_lexer": "ipython3",
   "version": "3.7.6"
  }
 },
 "nbformat": 4,
 "nbformat_minor": 1
}
